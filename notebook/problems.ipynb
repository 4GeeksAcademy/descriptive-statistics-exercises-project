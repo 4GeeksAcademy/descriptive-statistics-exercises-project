{
    "cells": [
        {
            "cell_type": "markdown",
            "id": "ac622319",
            "metadata": {},
            "source": [
                "# Descriptive statistics problems"
            ]
        },
        {
            "cell_type": "markdown",
            "id": "5e0ab0d5",
            "metadata": {},
            "source": [
                "### Exercise 1\n",
                "\n",
                "We will use NumPy to obtain information to describe statistically.\n",
                "\n",
                "- Generate an array of 100 elements following a normal distribution.\n",
                "- Generate an array of 100 elements following a chi-square distribution with 3 degrees of freedom.\n",
                "- Calculate the main metrics and statistical measures that best describe the two vectors."
            ]
        },
        {
            "cell_type": "code",
            "execution_count": 14,
            "id": "34720ab6",
            "metadata": {},
            "outputs": [
                {
                    "data": {
                        "text/plain": [
                            "array([-0.53988668, -0.94905504, -0.73352492, -0.07544568, -1.08605115,\n",
                            "        0.33340593,  0.19515608, -1.48845128,  0.46134719,  0.66545275,\n",
                            "       -1.09122062,  0.12374153, -0.1029024 ,  1.1687705 ,  0.52859944,\n",
                            "       -0.72158237,  0.59111366,  2.03120721,  0.63158345,  0.60197396,\n",
                            "       -0.61356605, -0.81799493, -0.26372894, -2.3584875 ,  2.1940731 ,\n",
                            "       -1.02521223,  0.35186427, -0.20386841,  1.20146865,  0.38066801,\n",
                            "       -0.68409994, -0.23941983, -0.23589756,  0.63909391, -1.66651075,\n",
                            "        0.87767062, -0.32542928,  0.8212762 ,  1.89712767, -0.93427657,\n",
                            "        0.01705559,  1.24346021, -1.75950927,  0.80239357,  0.50929435,\n",
                            "       -1.69248704,  0.8723104 , -1.28947311,  1.10736039,  1.54808618,\n",
                            "        1.06216654, -0.68224112,  0.2130726 ,  0.50040998, -1.54135589,\n",
                            "       -1.40136512, -0.46352272,  1.14631419, -0.7570148 ,  1.19651683,\n",
                            "       -0.20796189,  0.13754686, -0.80590727,  1.30199049, -0.44872464,\n",
                            "        1.64803778,  0.75933299,  0.04693384,  0.35270385, -0.80365188,\n",
                            "        1.23325092, -0.19239409,  0.30033216, -0.24348166, -0.02649817,\n",
                            "        0.72176837,  0.79647195,  0.16659953, -0.03520629,  1.79811753,\n",
                            "       -1.24295802,  0.405018  , -2.18525083,  0.39608242,  1.22203847,\n",
                            "       -1.78310517,  1.7060608 ,  0.86927511, -2.24827671,  0.77828881,\n",
                            "       -0.15847043, -0.03776719, -1.34225201,  1.67523246,  0.93761682,\n",
                            "        0.41234889, -0.03079782,  0.34183918, -1.03506112,  0.04458383])"
                        ]
                    },
                    "execution_count": 14,
                    "metadata": {},
                    "output_type": "execute_result"
                }
            ],
            "source": [
                "import numpy as np\n",
                "\n",
                "array_normal = np.random.normal(size=100) \n",
                "array_normal\n"
            ]
        },
        {
            "cell_type": "code",
            "execution_count": 15,
            "id": "e6be112c",
            "metadata": {},
            "outputs": [
                {
                    "data": {
                        "text/plain": [
                            "array([3.67061012, 2.05926903, 4.21220464, 5.38220809, 7.06783796,\n",
                            "       4.04498752, 0.58208332, 9.33268907, 2.36374232, 0.82704945,\n",
                            "       3.58368616, 4.90150383, 2.98867668, 6.09155883, 1.64292883,\n",
                            "       1.98431496, 0.95775249, 2.87228718, 0.5952561 , 5.3667464 ,\n",
                            "       5.6567292 , 8.52727835, 2.27487603, 2.34950986, 1.30428569,\n",
                            "       0.07153113, 5.90524836, 3.68851688, 2.64872402, 2.40884686,\n",
                            "       2.81269682, 1.32698691, 3.48650723, 0.76883299, 2.32234208,\n",
                            "       6.04851664, 3.98702862, 2.70325384, 5.00476932, 2.97915204,\n",
                            "       1.67120813, 1.27491096, 0.71326959, 0.85439436, 3.76377825,\n",
                            "       0.95188469, 5.89128892, 1.55337185, 0.72564406, 2.78196229,\n",
                            "       2.18363399, 1.20645288, 5.12583515, 3.66376256, 1.74933536,\n",
                            "       4.76267104, 9.74021524, 2.01766612, 1.93992975, 0.58616324,\n",
                            "       6.3840035 , 0.76974308, 3.61547945, 3.01586922, 0.65788803,\n",
                            "       3.3273483 , 0.52597424, 0.50117815, 2.04571046, 1.33402553,\n",
                            "       4.8312347 , 0.51737076, 3.49544905, 3.16545273, 2.91071769,\n",
                            "       6.43471081, 2.50544416, 1.58615878, 1.67705705, 0.69086847,\n",
                            "       2.30800361, 3.37629369, 4.04837551, 3.15959228, 0.39515369,\n",
                            "       0.98114451, 0.62988943, 2.04594719, 1.14163704, 0.13389648,\n",
                            "       1.01834071, 1.65574185, 0.75947037, 3.20195976, 0.80970755,\n",
                            "       1.6058005 , 1.1449054 , 0.34078864, 8.66220543, 1.72289291])"
                        ]
                    },
                    "execution_count": 15,
                    "metadata": {},
                    "output_type": "execute_result"
                }
            ],
            "source": [
                "array_chisquare = np.random.chisquare(df=3, size=100)\n",
                "array_chisquare"
            ]
        },
        {
            "cell_type": "code",
            "execution_count": 16,
            "id": "31921b9e",
            "metadata": {},
            "outputs": [
                {
                    "name": "stdout",
                    "output_type": "stream",
                    "text": [
                        "Estadísticas para el array normal:\n",
                        "Media: 0.05394159680036035\n",
                        "Mediana: 0.13064419554645712\n",
                        "Moda: ModeResult(mode=np.float64(-2.358487498896596), count=np.int64(1))\n",
                        "Varianza: 1.0288372669176495\n",
                        "Desviación Estándar: 1.0143161572792034\n",
                        "Máximo: 2.1940730962763246\n",
                        "Mínimo: -2.358487498896596\n",
                        "Percentiles (25%, 50%, 75%): [-0.69347055  0.1306442   0.78283459]\n"
                    ]
                }
            ],
            "source": [
                "from scipy import stats\n",
                "\n",
                "media_normal = np.mean(array_normal) \n",
                "mediana_normal = np.median(array_normal)\n",
                "moda_normal = stats.mode(array_normal)\n",
                "varianza_normal = np.var(array_normal)\n",
                "desv_std_normal = np.std(array_normal)\n",
                "max_normal = np.max(array_normal)\n",
                "min_normal = np.min(array_normal)\n",
                "percentiles_normal = np.percentile(array_normal, [25, 50, 75])\n",
                "\n",
                "print(\"Estadísticas para el array normal:\")\n",
                "print(\"Media:\", media_normal)\n",
                "print(\"Mediana:\", mediana_normal)\n",
                "print(\"Moda:\", moda_normal)\n",
                "print(\"Varianza:\", varianza_normal)\n",
                "print(\"Desviación Estándar:\", desv_std_normal)\n",
                "print(\"Máximo:\", max_normal)\n",
                "print(\"Mínimo:\", min_normal)\n",
                "print(\"Percentiles (25%, 50%, 75%):\", percentiles_normal)"
            ]
        },
        {
            "cell_type": "code",
            "execution_count": 17,
            "id": "1ab9d537",
            "metadata": {},
            "outputs": [
                {
                    "name": "stdout",
                    "output_type": "stream",
                    "text": [
                        "Estadísticas para el array chi-cuadrado:\n",
                        "Media: 2.7909383492973903\n",
                        "Mediana: 2.3151728416764423\n",
                        "Moda: 0.07153113315806203\n",
                        "Varianza: 4.5085852896672245\n",
                        "Desviación Estándar: 2.1233429514958777\n",
                        "Máximo: 9.740215240711022\n",
                        "Mínimo: 0.07153113315806203\n",
                        "Percentiles (25%, 50%, 75%): [1.11081295 2.31517284 3.67508681]\n"
                    ]
                }
            ],
            "source": [
                "# Calcular las principales métricas\n",
                "media_chisquare = np.mean(array_chisquare)\n",
                "mediana_chisquare = np.median(array_chisquare)\n",
                "\n",
                "moda_resultado = stats.mode(array_chisquare, keepdims=True)\n",
                "moda_chisquare = moda_resultado.mode[0]\n",
                "varianza_chisquare = np.var(array_chisquare)\n",
                "desv_std_chisquare = np.std(array_chisquare)\n",
                "max_chisquare = np.max(array_chisquare)\n",
                "min_chisquare = np.min(array_chisquare)\n",
                "percentiles_chisquare = np.percentile(array_chisquare, [25, 50, 75])\n",
                "\n",
                "\n",
                "print(\"Estadísticas para el array chi-cuadrado:\")\n",
                "print(\"Media:\", media_chisquare)\n",
                "print(\"Mediana:\", mediana_chisquare)\n",
                "print(\"Moda:\", moda_chisquare)\n",
                "print(\"Varianza:\", varianza_chisquare)\n",
                "print(\"Desviación Estándar:\", desv_std_chisquare)\n",
                "print(\"Máximo:\", max_chisquare)\n",
                "print(\"Mínimo:\", min_chisquare)\n",
                "print(\"Percentiles (25%, 50%, 75%):\", percentiles_chisquare)\n"
            ]
        },
        {
            "cell_type": "code",
            "execution_count": 18,
            "id": "744637b0",
            "metadata": {},
            "outputs": [
                {
                    "name": "stdout",
                    "output_type": "stream",
                    "text": [
                        "----- Comparación de métricas entre Distribución Normal y Chi-cuadrado -----\n",
                        "\n",
                        "Métrica              Distribución Normal       Distribución Chi-cuadrado\n",
                        "Media                0.030962693516062945      3.2199382200543396\n",
                        "Mediana              0.028293551354551718      2.34949255269281\n",
                        "Moda                 -2.142530419877928        0.029932775193531592\n",
                        "Varianza             0.9443760225427456        8.156104420210205\n",
                        "Desv. Estándar       0.9717901123919431        2.8558894271680417\n",
                        "Máximo               2.0914736906668665        14.88369927256691\n",
                        "Mínimo               -2.142530419877928        0.029932775193531592\n",
                        "Percentil 25         -0.6579517428196504       1.3704598462241808\n",
                        "Percentil 50         0.028293551354551718      2.34949255269281\n",
                        "Percentil 75         0.7903746675064197        4.207405676440756\n"
                    ]
                }
            ],
            "source": [
                "#Comparación más visual\n",
                "\n",
                "import numpy as np\n",
                "from scipy import stats\n",
                "\n",
                "# Generar un array de 100 valores con distribución normal\n",
                "array_normal = np.random.normal(loc=0, scale=1, size=100)\n",
                "\n",
                "# Generar un array de 100 valores con distribución chi-cuadrado con 3 grados de libertad\n",
                "array_chisquare = np.random.chisquare(df=3, size=100)\n",
                "\n",
                "# ---- Cálculo de métricas para el array con distribución normal ----\n",
                "media_normal = np.mean(array_normal)\n",
                "mediana_normal = np.median(array_normal)\n",
                "moda_normal = stats.mode(array_normal, keepdims=True).mode[0]\n",
                "varianza_normal = np.var(array_normal)\n",
                "desv_std_normal = np.std(array_normal)\n",
                "max_normal = np.max(array_normal)\n",
                "min_normal = np.min(array_normal)\n",
                "percentiles_normal = np.percentile(array_normal, [25, 50, 75])\n",
                "\n",
                "# ---- Cálculo de métricas para el array con distribución chi-cuadrado ----\n",
                "media_chisquare = np.mean(array_chisquare)\n",
                "mediana_chisquare = np.median(array_chisquare)\n",
                "moda_chisquare = stats.mode(array_chisquare, keepdims=True).mode[0]\n",
                "varianza_chisquare = np.var(array_chisquare)\n",
                "desv_std_chisquare = np.std(array_chisquare)\n",
                "max_chisquare = np.max(array_chisquare)\n",
                "min_chisquare = np.min(array_chisquare)\n",
                "percentiles_chisquare = np.percentile(array_chisquare, [25, 50, 75])\n",
                "\n",
                "# ---- Comparación de métricas ----\n",
                "print(\"----- Comparación de métricas entre Distribución Normal y Chi-cuadrado -----\\n\")\n",
                "\n",
                "print(f\"{'Métrica':<20} {'Distribución Normal':<25} {'Distribución Chi-cuadrado'}\")\n",
                "print(f\"{'Media':<20} {media_normal:<25} {media_chisquare}\")\n",
                "print(f\"{'Mediana':<20} {mediana_normal:<25} {mediana_chisquare}\")\n",
                "print(f\"{'Moda':<20} {moda_normal:<25} {moda_chisquare}\")\n",
                "print(f\"{'Varianza':<20} {varianza_normal:<25} {varianza_chisquare}\")\n",
                "print(f\"{'Desv. Estándar':<20} {desv_std_normal:<25} {desv_std_chisquare}\")\n",
                "print(f\"{'Máximo':<20} {max_normal:<25} {max_chisquare}\")\n",
                "print(f\"{'Mínimo':<20} {min_normal:<25} {min_chisquare}\")\n",
                "print(f\"{'Percentil 25':<20} {percentiles_normal[0]:<25} {percentiles_chisquare[0]}\")\n",
                "print(f\"{'Percentil 50':<20} {percentiles_normal[1]:<25} {percentiles_chisquare[1]}\")\n",
                "print(f\"{'Percentil 75':<20} {percentiles_normal[2]:<25} {percentiles_chisquare[2]}\")\n"
            ]
        },
        {
            "cell_type": "markdown",
            "id": "46c70c3d",
            "metadata": {},
            "source": [
                "### Exercise 2\n",
                "\n",
                "Write a Python program to calculate the standard deviation of the following data:\n",
                "\n",
                "```py\n",
                "data = [4, 2, 5, 8, 6]\n",
                "```"
            ]
        },
        {
            "cell_type": "code",
            "execution_count": 19,
            "id": "d590308e",
            "metadata": {},
            "outputs": [
                {
                    "name": "stdout",
                    "output_type": "stream",
                    "text": [
                        "La desviación estándar es: 2.0\n"
                    ]
                }
            ],
            "source": [
                "data = [4, 2, 5, 8, 6]\n",
                "\n",
                "# Función para calcular la media\n",
                "def calcular_media(datos):\n",
                "    suma = sum(datos)\n",
                "    n = len(datos)\n",
                "    media = suma / n\n",
                "    return media\n",
                "\n",
                "# Función para calcular la desviación estándar\n",
                "def calcular_desviacion_estandar(datos):\n",
                "    # Paso 1: Calcular la media del conjunto de datos\n",
                "    media = calcular_media(datos)\n",
                "    \n",
                "    # Paso 2: Calcular la diferencia al cuadrado de cada valor respecto a la media\n",
                "    diferencias_cuadrado = [(x - media) ** 2 for x in datos]\n",
                "    \n",
                "    # Paso 3: Calcular la media de las diferencias al cuadrado (varianza)\n",
                "    varianza = sum(diferencias_cuadrado) / len(datos)\n",
                "    \n",
                "    # Paso 4: Sacar la raíz cuadrada de la varianza para obtener la desviación estándar\n",
                "    desviacion_estandar = varianza ** 0.5\n",
                "    return desviacion_estandar\n",
                "\n",
                "# Datos proporcionados\n",
                "data = [4, 2, 5, 8, 6]\n",
                "\n",
                "# Calcular la desviación estándar\n",
                "desviacion = calcular_desviacion_estandar(data)\n",
                "print(f\"La desviación estándar es: {desviacion}\")\n",
                "\n",
                "\n"
            ]
        },
        {
            "cell_type": "code",
            "execution_count": 20,
            "id": "d4da27bc",
            "metadata": {},
            "outputs": [
                {
                    "name": "stdout",
                    "output_type": "stream",
                    "text": [
                        "La desviación estándar es: 2.0\n"
                    ]
                }
            ],
            "source": [
                "import statistics\n",
                "\n",
                "std_dev_population = statistics.pstdev(data)\n",
                "print(\"La desviación estándar es:\", std_dev_population)"
            ]
        }
    ],
    "metadata": {
        "kernelspec": {
            "display_name": "Python 3",
            "language": "python",
            "name": "python3"
        },
        "language_info": {
            "codemirror_mode": {
                "name": "ipython",
                "version": 3
            },
            "file_extension": ".py",
            "mimetype": "text/x-python",
            "name": "python",
            "nbconvert_exporter": "python",
            "pygments_lexer": "ipython3",
            "version": "3.11.4"
        }
    },
    "nbformat": 4,
    "nbformat_minor": 5
}
