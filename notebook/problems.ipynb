{
    "cells": [
        {
            "cell_type": "markdown",
            "id": "ac622319",
            "metadata": {},
            "source": [
                "# Descriptive statistics problems"
            ]
        },
        {
            "cell_type": "markdown",
            "id": "5e0ab0d5",
            "metadata": {},
            "source": [
                "### Exercise 1\n",
                "\n",
                "We will use NumPy to obtain information to describe statistically.\n",
                "\n",
                "- Generate an array of 100 elements following a normal distribution.\n",
                "- Generate an array of 100 elements following a chi-square distribution with 3 degrees of freedom.\n",
                "- Calculate the main metrics and statistical measures that best describe the two vectors."
            ]
        },
        {
            "cell_type": "code",
            "execution_count": 99,
            "id": "34720ab6",
            "metadata": {},
            "outputs": [
                {
                    "data": {
                        "text/plain": [
                            "array([-1.43068046e+00,  1.04580720e+00,  9.40739482e-01, -1.21513024e+00,\n",
                            "       -2.41315140e+00, -3.76735690e-01, -1.53284616e+00, -1.17248075e+00,\n",
                            "       -4.07095092e-01, -1.46561725e+00,  5.38280768e-01,  1.26366102e+00,\n",
                            "       -1.08836978e+00, -1.01545954e+00, -1.61138297e+00, -1.34586493e+00,\n",
                            "        4.62875542e-01,  3.49310442e-01,  3.41116181e-01, -1.44192398e+00,\n",
                            "       -1.04537491e-01,  5.97205625e-01,  9.96630452e-01, -2.25485320e+00,\n",
                            "       -6.36386318e-01,  9.45301146e-01, -7.41616153e-01,  1.99031621e-01,\n",
                            "       -3.11552613e-02,  7.31185451e-01, -8.20023976e-01, -1.06334544e+00,\n",
                            "        1.47605203e+00,  6.39683791e-01,  9.10180163e-01,  7.72299078e-01,\n",
                            "        1.23065272e+00,  5.30207592e-01, -1.32186898e+00, -1.10246934e-01,\n",
                            "       -1.32155196e+00, -1.08009953e+00, -1.09183438e+00,  1.78336168e+00,\n",
                            "        5.96859856e-02, -1.38374428e+00,  6.39283496e-01,  7.81872214e-01,\n",
                            "        8.82242340e-01, -2.11500031e+00, -2.18634280e+00,  5.86340375e-02,\n",
                            "        7.45782813e-01,  7.14614152e-01, -1.11400170e+00, -4.74583705e-01,\n",
                            "        1.13606248e-01, -1.31165565e-01, -1.82459555e+00,  1.49423932e+00,\n",
                            "       -1.24964260e+00, -6.28597016e-01, -9.29673143e-01, -1.55543865e+00,\n",
                            "       -7.28647439e-01,  1.90021259e-01, -8.37221795e-01,  1.98451545e-01,\n",
                            "       -3.53429357e-01,  2.50316189e-01,  7.29165819e-01,  1.42585107e+00,\n",
                            "        8.78888347e-01,  2.09150500e-04, -1.00772226e+00,  1.78044579e+00,\n",
                            "        1.00161613e+00,  1.80731109e+00,  1.05244924e+00,  5.06823830e-01,\n",
                            "        1.30848383e-01,  6.25104316e-01, -1.21064820e+00, -2.21098872e-01,\n",
                            "        4.35910502e-01, -5.84827683e-01, -8.89322180e-01, -6.66726220e-01,\n",
                            "       -1.04767473e+00,  4.77425230e-01,  1.29499892e-01,  1.20307553e+00,\n",
                            "        1.18680118e+00, -8.68973659e-01, -1.52049523e+00, -2.36832876e-01,\n",
                            "        6.93527852e-01,  6.83106641e-01, -1.81168310e-01,  8.38516746e-01])"
                        ]
                    },
                    "execution_count": 99,
                    "metadata": {},
                    "output_type": "execute_result"
                }
            ],
            "source": [
                "import numpy as np\n",
                "\n",
                "array_normal = np.random.normal(size=100) \n",
                "array_normal\n"
            ]
        },
        {
            "cell_type": "code",
            "execution_count": 100,
            "id": "e6be112c",
            "metadata": {},
            "outputs": [
                {
                    "data": {
                        "text/plain": [
                            "array([ 2.66490784,  3.47589736,  1.44420425,  5.57986289,  8.65025515,\n",
                            "        3.66342686,  2.84997885,  1.70971326,  1.85105987,  0.8082137 ,\n",
                            "        0.09766864,  0.63584711,  2.63360092,  1.49309669,  1.14845371,\n",
                            "        4.4852147 ,  0.94219427,  1.92528955,  2.22955273,  5.43509923,\n",
                            "        5.9343918 ,  6.79609361,  3.45393813,  4.40102856,  4.80825881,\n",
                            "        0.20186336,  1.88464694,  3.23364091, 10.09331323,  1.9471855 ,\n",
                            "        0.60957329,  1.27354449,  4.47181375,  1.01515441,  0.98172129,\n",
                            "        7.47006711,  2.32264001,  3.33170097,  3.31374682,  0.96178022,\n",
                            "        0.13651665,  2.8909235 ,  1.44325156,  3.24624098,  4.51718187,\n",
                            "        0.11100219,  4.26038794,  2.62476534,  2.59212976,  1.28677436,\n",
                            "        1.11367134,  4.4198664 ,  1.2027428 ,  0.57866931,  0.34081395,\n",
                            "        2.21748596,  0.2554804 ,  3.1026716 ,  1.04565651,  4.36148974,\n",
                            "        0.49682307,  0.85701418, 10.20643336,  3.08929262,  5.78489177,\n",
                            "        5.59739409,  2.70091702,  5.19215513,  4.88975662,  3.82891894,\n",
                            "        1.21858577,  2.65068222, 10.00968817,  3.83779826,  3.76565899,\n",
                            "        2.14804809,  2.20883433,  2.19830677,  2.41023707,  8.12687018,\n",
                            "        5.81143188,  3.02891023,  1.48651268,  3.27015869,  4.69417476,\n",
                            "        0.14524272,  5.03067681,  2.32353528,  1.59855218,  2.11402165,\n",
                            "        4.18805509,  0.1892155 ,  1.96880184,  0.39483976,  4.20809253,\n",
                            "        5.1400009 ,  1.0889021 ,  9.55028956,  3.74271823,  9.13040954])"
                        ]
                    },
                    "execution_count": 100,
                    "metadata": {},
                    "output_type": "execute_result"
                }
            ],
            "source": [
                "array_chisquare = np.random.chisquare(df=3, size=100)\n",
                "array_chisquare"
            ]
        },
        {
            "cell_type": "code",
            "execution_count": 101,
            "id": "31921b9e",
            "metadata": {},
            "outputs": [
                {
                    "name": "stdout",
                    "output_type": "stream",
                    "text": [
                        "Estadísticas para el array normal:\n",
                        "Media: -0.13572923635594572\n",
                        "Mediana: -0.01547305541877417\n",
                        "Moda: ModeResult(mode=np.float64(-2.4131513979265464), count=np.int64(1))\n",
                        "Varianza: 1.0591625730207495\n",
                        "Desviación Estándar: 1.029156243250144\n",
                        "Máximo: 1.8073110929297986\n",
                        "Mínimo: -2.4131513979265464\n",
                        "Percentiles (25%, 50%, 75%): [-1.0515924  -0.01547306  0.71825207]\n"
                    ]
                }
            ],
            "source": [
                "from scipy import stats\n",
                "\n",
                "media_normal = np.mean(array_normal) \n",
                "mediana_normal = np.median(array_normal)\n",
                "moda_normal = stats.mode(array_normal)\n",
                "varianza_normal = np.var(array_normal)\n",
                "desv_std_normal = np.std(array_normal)\n",
                "max_normal = np.max(array_normal)\n",
                "min_normal = np.min(array_normal)\n",
                "percentiles_normal = np.percentile(array_normal, [25, 50, 75])\n",
                "\n",
                "print(\"Estadísticas para el array normal:\")\n",
                "print(\"Media:\", media_normal)\n",
                "print(\"Mediana:\", mediana_normal)\n",
                "print(\"Moda:\", moda_normal)\n",
                "print(\"Varianza:\", varianza_normal)\n",
                "print(\"Desviación Estándar:\", desv_std_normal)\n",
                "print(\"Máximo:\", max_normal)\n",
                "print(\"Mínimo:\", min_normal)\n",
                "print(\"Percentiles (25%, 50%, 75%):\", percentiles_normal)"
            ]
        },
        {
            "cell_type": "code",
            "execution_count": 102,
            "id": "1ab9d537",
            "metadata": {},
            "outputs": [
                {
                    "name": "stdout",
                    "output_type": "stream",
                    "text": [
                        "Estadísticas para el array chi-cuadrado:\n",
                        "Media: 3.1430021154578274\n",
                        "Mediana: 2.6421415726233026\n",
                        "Moda: 0.09766863583164825\n",
                        "Varianza: 5.8125451230035905\n",
                        "Desviación Estándar: 2.410922048305086\n",
                        "Máximo: 10.206433355548288\n",
                        "Mínimo: 0.09766863583164825\n",
                        "Percentiles (25%, 50%, 75%): [1.25980481 2.64214157 4.40573802]\n"
                    ]
                }
            ],
            "source": [
                "# Calcular las principales métricas\n",
                "media_chisquare = np.mean(array_chisquare)\n",
                "mediana_chisquare = np.median(array_chisquare)\n",
                "\n",
                "moda_resultado = stats.mode(array_chisquare, keepdims=True)\n",
                "moda_chisquare = moda_resultado.mode[0]\n",
                "varianza_chisquare = np.var(array_chisquare)\n",
                "desv_std_chisquare = np.std(array_chisquare)\n",
                "max_chisquare = np.max(array_chisquare)\n",
                "min_chisquare = np.min(array_chisquare)\n",
                "percentiles_chisquare = np.percentile(array_chisquare, [25, 50, 75])\n",
                "\n",
                "\n",
                "print(\"Estadísticas para el array chi-cuadrado:\")\n",
                "print(\"Media:\", media_chisquare)\n",
                "print(\"Mediana:\", mediana_chisquare)\n",
                "print(\"Moda:\", moda_chisquare)\n",
                "print(\"Varianza:\", varianza_chisquare)\n",
                "print(\"Desviación Estándar:\", desv_std_chisquare)\n",
                "print(\"Máximo:\", max_chisquare)\n",
                "print(\"Mínimo:\", min_chisquare)\n",
                "print(\"Percentiles (25%, 50%, 75%):\", percentiles_chisquare)\n"
            ]
        },
        {
            "cell_type": "code",
            "execution_count": 103,
            "id": "744637b0",
            "metadata": {},
            "outputs": [
                {
                    "name": "stdout",
                    "output_type": "stream",
                    "text": [
                        "----- Comparación de métricas entre Distribución Normal y Chi-cuadrado -----\n",
                        "\n",
                        "Métrica              Distribución Normal       Distribución Chi-cuadrado\n",
                        "Media                -0.048044859201853515     2.9439979728544143\n",
                        "Mediana              -0.020002197386745794     2.2105496851003665\n",
                        "Moda                 -2.16925559434939         0.027294125883720852\n",
                        "Varianza             0.9213209311468917        6.408214847856524\n",
                        "Desv. Estándar       0.9598546406341388        2.5314452093333015\n",
                        "Máximo               2.2073734405608985        13.470210090536304\n",
                        "Mínimo               -2.16925559434939         0.027294125883720852\n",
                        "Percentil 25         -0.7588042429226182       1.3602722542769916\n",
                        "Percentil 50         -0.020002197386745798     2.2105496851003665\n",
                        "Percentil 75         0.612998549444201         3.905722051544944\n"
                    ]
                }
            ],
            "source": [
                "#Comparación más visual\n",
                "\n",
                "import numpy as np\n",
                "from scipy import stats\n",
                "\n",
                "# Generar un array de 100 valores con distribución normal\n",
                "array_normal = np.random.normal(loc=0, scale=1, size=100)\n",
                "\n",
                "# Generar un array de 100 valores con distribución chi-cuadrado con 3 grados de libertad\n",
                "array_chisquare = np.random.chisquare(df=3, size=100)\n",
                "\n",
                "# ---- Cálculo de métricas para el array con distribución normal ----\n",
                "media_normal = np.mean(array_normal)\n",
                "mediana_normal = np.median(array_normal)\n",
                "moda_normal = stats.mode(array_normal, keepdims=True).mode[0]\n",
                "varianza_normal = np.var(array_normal)\n",
                "desv_std_normal = np.std(array_normal)\n",
                "max_normal = np.max(array_normal)\n",
                "min_normal = np.min(array_normal)\n",
                "percentiles_normal = np.percentile(array_normal, [25, 50, 75])\n",
                "\n",
                "# ---- Cálculo de métricas para el array con distribución chi-cuadrado ----\n",
                "media_chisquare = np.mean(array_chisquare)\n",
                "mediana_chisquare = np.median(array_chisquare)\n",
                "moda_chisquare = stats.mode(array_chisquare, keepdims=True).mode[0]\n",
                "varianza_chisquare = np.var(array_chisquare)\n",
                "desv_std_chisquare = np.std(array_chisquare)\n",
                "max_chisquare = np.max(array_chisquare)\n",
                "min_chisquare = np.min(array_chisquare)\n",
                "percentiles_chisquare = np.percentile(array_chisquare, [25, 50, 75])\n",
                "\n",
                "# ---- Comparación de métricas ----\n",
                "print(\"----- Comparación de métricas entre Distribución Normal y Chi-cuadrado -----\\n\")\n",
                "\n",
                "print(f\"{'Métrica':<20} {'Distribución Normal':<25} {'Distribución Chi-cuadrado'}\")\n",
                "print(f\"{'Media':<20} {media_normal:<25} {media_chisquare}\")\n",
                "print(f\"{'Mediana':<20} {mediana_normal:<25} {mediana_chisquare}\")\n",
                "print(f\"{'Moda':<20} {moda_normal:<25} {moda_chisquare}\")\n",
                "print(f\"{'Varianza':<20} {varianza_normal:<25} {varianza_chisquare}\")\n",
                "print(f\"{'Desv. Estándar':<20} {desv_std_normal:<25} {desv_std_chisquare}\")\n",
                "print(f\"{'Máximo':<20} {max_normal:<25} {max_chisquare}\")\n",
                "print(f\"{'Mínimo':<20} {min_normal:<25} {min_chisquare}\")\n",
                "print(f\"{'Percentil 25':<20} {percentiles_normal[0]:<25} {percentiles_chisquare[0]}\")\n",
                "print(f\"{'Percentil 50':<20} {percentiles_normal[1]:<25} {percentiles_chisquare[1]}\")\n",
                "print(f\"{'Percentil 75':<20} {percentiles_normal[2]:<25} {percentiles_chisquare[2]}\")\n"
            ]
        },
        {
            "cell_type": "markdown",
            "id": "46c70c3d",
            "metadata": {},
            "source": [
                "### Exercise 2\n",
                "\n",
                "Write a Python program to calculate the standard deviation of the following data:\n",
                "\n",
                "```py\n",
                "data = [4, 2, 5, 8, 6]\n",
                "```"
            ]
        },
        {
            "cell_type": "code",
            "execution_count": 104,
            "id": "d590308e",
            "metadata": {},
            "outputs": [
                {
                    "name": "stdout",
                    "output_type": "stream",
                    "text": [
                        "La desviación estándar es: 2.0\n"
                    ]
                }
            ],
            "source": [
                "data = [4, 2, 5, 8, 6]\n",
                "\n",
                "# Función para calcular la media\n",
                "def calcular_media(datos):\n",
                "    suma = sum(datos)\n",
                "    n = len(datos)\n",
                "    media = suma / n\n",
                "    return media\n",
                "\n",
                "# Función para calcular la desviación estándar\n",
                "def calcular_desviacion_estandar(datos):\n",
                "    # Paso 1: Calcular la media del conjunto de datos\n",
                "    media = calcular_media(datos)\n",
                "    \n",
                "    # Paso 2: Calcular la diferencia al cuadrado de cada valor respecto a la media\n",
                "    diferencias_cuadrado = [(x - media) ** 2 for x in datos]\n",
                "    \n",
                "    # Paso 3: Calcular la media de las diferencias al cuadrado (varianza)\n",
                "    varianza = sum(diferencias_cuadrado) / len(datos)\n",
                "    \n",
                "    # Paso 4: Sacar la raíz cuadrada de la varianza para obtener la desviación estándar\n",
                "    desviacion_estandar = varianza ** 0.5\n",
                "    return desviacion_estandar\n",
                "\n",
                "# Datos proporcionados\n",
                "data = [4, 2, 5, 8, 6]\n",
                "\n",
                "# Calcular la desviación estándar\n",
                "desviacion = calcular_desviacion_estandar(data)\n",
                "print(f\"La desviación estándar es: {desviacion}\")\n",
                "\n",
                "\n"
            ]
        }
    ],
    "metadata": {
        "kernelspec": {
            "display_name": "Python 3",
            "language": "python",
            "name": "python3"
        },
        "language_info": {
            "codemirror_mode": {
                "name": "ipython",
                "version": 3
            },
            "file_extension": ".py",
            "mimetype": "text/x-python",
            "name": "python",
            "nbconvert_exporter": "python",
            "pygments_lexer": "ipython3",
            "version": "3.11.4"
        }
    },
    "nbformat": 4,
    "nbformat_minor": 5
}
