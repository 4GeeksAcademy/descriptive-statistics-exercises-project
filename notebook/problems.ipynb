{
    "cells": [
        {
            "cell_type": "markdown",
            "id": "ac622319",
            "metadata": {},
            "source": [
                "# Descriptive statistics problems"
            ]
        },
        {
            "cell_type": "markdown",
            "id": "5e0ab0d5",
            "metadata": {},
            "source": [
                "### Exercise 1\n",
                "\n",
                "We will use NumPy to obtain information to describe statistically.\n",
                "\n",
                "- Generate an array of 100 elements following a normal distribution.\n",
                "- Generate an array of 100 elements following a chi-square distribution with 3 degrees of freedom.\n",
                "- Calculate the main metrics and statistical measures that best describe the two vectors."
            ]
        },
        {
            "cell_type": "code",
            "execution_count": 69,
            "id": "34720ab6",
            "metadata": {},
            "outputs": [
                {
                    "data": {
                        "text/plain": [
                            "array([ 1.38332933,  0.12073587, -0.87794623,  0.38032097,  0.8072282 ,\n",
                            "        1.20158648, -1.62570956,  1.08969507, -1.37667604,  0.15524898,\n",
                            "       -0.18354831, -0.14616836,  0.45437132, -1.36819014,  0.08371827,\n",
                            "        0.39772802, -0.09512419, -0.53978922, -0.14621927,  1.07276976,\n",
                            "       -0.77554062, -2.42753451, -1.3555664 ,  0.23751331,  0.39684218,\n",
                            "        0.21391625, -0.0474223 , -0.80135775, -1.33801558,  1.93331224,\n",
                            "       -0.93168778, -1.25087599,  0.30435882, -0.44899612, -0.411535  ,\n",
                            "        0.30445332, -1.50427346, -0.50184842,  0.54515724, -0.45822324,\n",
                            "        0.05230486, -0.92475359, -1.57818043, -1.05537573,  0.28753373,\n",
                            "       -0.1013134 , -0.25314639, -0.64855686, -0.12217241, -0.57623627,\n",
                            "        0.49088979,  0.36635247, -0.47215133, -1.30185658, -1.04664409,\n",
                            "       -0.42964276, -0.18936453,  2.01889051,  0.09277011, -1.82372084,\n",
                            "        0.78536306,  0.24775025,  0.90882506, -0.32174203,  0.18725908,\n",
                            "       -0.98483689,  0.24453987,  0.5274257 ,  0.24186703,  0.80083613,\n",
                            "        1.04578157, -0.33022536,  0.47493324,  1.81762944, -2.58360038,\n",
                            "        0.49854831, -1.7264697 , -1.02412399,  0.2617647 ,  0.41592244,\n",
                            "        0.55500959,  0.15725343,  0.29799403, -0.17145381, -0.48232624,\n",
                            "        1.01915676, -0.73924339, -0.65275953, -0.31608545, -0.10307719,\n",
                            "        1.98721468, -0.7126659 , -0.77295141, -0.79190783,  0.54922487,\n",
                            "       -1.33003283, -0.57533166, -0.20286392, -1.52134819, -1.48504169])"
                        ]
                    },
                    "execution_count": 69,
                    "metadata": {},
                    "output_type": "execute_result"
                }
            ],
            "source": [
                "import numpy as np\n",
                "\n",
                "array_normal = np.random.normal(size=100) \n",
                "array_normal\n"
            ]
        },
        {
            "cell_type": "code",
            "execution_count": 70,
            "id": "e6be112c",
            "metadata": {},
            "outputs": [
                {
                    "data": {
                        "text/plain": [
                            "array([ 0.9717128 ,  8.93965436,  3.57500254,  4.98737679,  4.44513048,\n",
                            "        0.61400504,  3.62179286,  7.04618384,  0.58496301,  6.52718267,\n",
                            "        1.96056918,  0.52614453,  1.66905558,  0.61143033,  2.56794517,\n",
                            "        2.29063551,  3.30830031,  1.57618369,  1.18422127,  1.73656427,\n",
                            "        0.26205349,  1.4166384 ,  5.82049638,  4.14200793,  4.16115072,\n",
                            "        2.05212305,  1.30627503,  1.36299058,  0.1249807 ,  2.99285065,\n",
                            "        4.57161462,  3.24690748,  6.68753109,  0.3629992 ,  3.94258821,\n",
                            "        1.6419117 ,  2.00809677,  3.21379882,  0.6820719 ,  0.54318656,\n",
                            "       13.3474068 ,  2.80067439,  1.571123  ,  2.00371806,  3.77423577,\n",
                            "        2.95729979,  0.55774953,  1.5714219 ,  4.63049592,  2.74506242,\n",
                            "        4.49346164,  4.59425049,  2.27613823,  2.65456513,  1.63791174,\n",
                            "        4.4841018 ,  3.63006544,  3.15550244,  3.94083465,  0.21846539,\n",
                            "        0.6239239 ,  1.45349911,  1.11844828,  5.52417471,  1.26162096,\n",
                            "        0.90118384,  0.46125822,  1.15378716,  6.04507202,  2.21049864,\n",
                            "        1.15692335,  4.48446979,  0.90231504,  4.38732814,  6.78723411,\n",
                            "        2.34945346,  2.00613475,  1.12871702,  1.47105696,  7.41174927,\n",
                            "        0.90304918,  2.3370429 ,  5.07378497,  1.36116561,  2.20668964,\n",
                            "        2.31259746,  0.35061159,  1.49816142,  3.27267207,  3.70439772,\n",
                            "        5.08199164,  4.68215731,  2.78504931,  5.84587438,  1.34324725,\n",
                            "        0.95882621,  0.50743196,  2.97751512,  3.92902526,  1.16156251])"
                        ]
                    },
                    "execution_count": 70,
                    "metadata": {},
                    "output_type": "execute_result"
                }
            ],
            "source": [
                "array_chisquare = np.random.chisquare(df=3, size=100)\n",
                "array_chisquare"
            ]
        },
        {
            "cell_type": "code",
            "execution_count": 71,
            "id": "31921b9e",
            "metadata": {},
            "outputs": [
                {
                    "name": "stdout",
                    "output_type": "stream",
                    "text": [
                        "Estadísticas para el array normal:\n",
                        "Media: -0.18548124732136795\n",
                        "Mediana: -0.14619381248112123\n",
                        "Moda: ModeResult(mode=np.float64(-2.583600380224638), count=np.int64(1))\n",
                        "Varianza: 0.8322751614351742\n",
                        "Desviación Estándar: 0.9122911604499817\n",
                        "Máximo: 2.018890514244441\n",
                        "Mínimo: -2.583600380224638\n",
                        "Percentiles (25%, 50%, 75%): [-0.77963242 -0.14619381  0.38445127]\n"
                    ]
                }
            ],
            "source": [
                "from scipy import stats\n",
                "\n",
                "media_normal = np.mean(array_normal) \n",
                "mediana_normal = np.median(array_normal)\n",
                "moda_normal = stats.mode(array_normal)\n",
                "varianza_normal = np.var(array_normal)\n",
                "desv_std_normal = np.std(array_normal)\n",
                "max_normal = np.max(array_normal)\n",
                "min_normal = np.min(array_normal)\n",
                "percentiles_normal = np.percentile(array_normal, [25, 50, 75])\n",
                "\n",
                "print(\"Estadísticas para el array normal:\")\n",
                "print(\"Media:\", media_normal)\n",
                "print(\"Mediana:\", mediana_normal)\n",
                "print(\"Moda:\", moda_normal)\n",
                "print(\"Varianza:\", varianza_normal)\n",
                "print(\"Desviación Estándar:\", desv_std_normal)\n",
                "print(\"Máximo:\", max_normal)\n",
                "print(\"Mínimo:\", min_normal)\n",
                "print(\"Percentiles (25%, 50%, 75%):\", percentiles_normal)"
            ]
        },
        {
            "cell_type": "code",
            "execution_count": 72,
            "id": "1ab9d537",
            "metadata": {},
            "outputs": [
                {
                    "name": "stdout",
                    "output_type": "stream",
                    "text": [
                        "Estadísticas para el array chi-cuadrado:\n",
                        "Media: 2.8146251429205047\n",
                        "Mediana: 2.2833868742466645\n",
                        "Moda: 0.12498069853181674\n",
                        "Varianza: 4.725554933106647\n",
                        "Desviación Estándar: 2.173834154922276\n",
                        "Máximo: 13.347406798089219\n",
                        "Mínimo: 0.12498069853181674\n",
                        "Percentiles (25%, 50%, 75%): [1.17855658 2.28338687 3.99244314]\n"
                    ]
                }
            ],
            "source": [
                "# Calcular las principales métricas\n",
                "media_chisquare = np.mean(array_chisquare)\n",
                "mediana_chisquare = np.median(array_chisquare)\n",
                "\n",
                "moda_resultado = stats.mode(array_chisquare, keepdims=True)\n",
                "moda_chisquare = moda_resultado.mode[0]\n",
                "varianza_chisquare = np.var(array_chisquare)\n",
                "desv_std_chisquare = np.std(array_chisquare)\n",
                "max_chisquare = np.max(array_chisquare)\n",
                "min_chisquare = np.min(array_chisquare)\n",
                "percentiles_chisquare = np.percentile(array_chisquare, [25, 50, 75])\n",
                "\n",
                "\n",
                "print(\"Estadísticas para el array chi-cuadrado:\")\n",
                "print(\"Media:\", media_chisquare)\n",
                "print(\"Mediana:\", mediana_chisquare)\n",
                "print(\"Moda:\", moda_chisquare)\n",
                "print(\"Varianza:\", varianza_chisquare)\n",
                "print(\"Desviación Estándar:\", desv_std_chisquare)\n",
                "print(\"Máximo:\", max_chisquare)\n",
                "print(\"Mínimo:\", min_chisquare)\n",
                "print(\"Percentiles (25%, 50%, 75%):\", percentiles_chisquare)\n"
            ]
        },
        {
            "cell_type": "code",
            "execution_count": 73,
            "id": "744637b0",
            "metadata": {},
            "outputs": [
                {
                    "name": "stdout",
                    "output_type": "stream",
                    "text": [
                        "----- Comparación de métricas entre Distribución Normal y Chi-cuadrado -----\n",
                        "\n",
                        "Métrica              Distribución Normal       Distribución Chi-cuadrado\n",
                        "Media                -0.07733511343665318      3.0516278394634644\n",
                        "Mediana              0.012120451305583237      2.512346681398345\n",
                        "Moda                 -2.607089374320389        0.14804254223197547\n",
                        "Varianza             0.9949819712641562        5.312592530695145\n",
                        "Desv. Estándar       0.9974878301333587        2.3049061869618783\n",
                        "Máximo               2.593870634539909         11.319174388292648\n",
                        "Mínimo               -2.607089374320389        0.14804254223197547\n",
                        "Percentil 25         -0.6696711366141408       1.3283544273710597\n",
                        "Percentil 50         0.012120451305583237      2.512346681398345\n",
                        "Percentil 75         0.4789905794158336        4.288556166981053\n"
                    ]
                }
            ],
            "source": [
                "#Comparación más visual\n",
                "\n",
                "import numpy as np\n",
                "from scipy import stats\n",
                "\n",
                "# Generar un array de 100 valores con distribución normal\n",
                "array_normal = np.random.normal(loc=0, scale=1, size=100)\n",
                "\n",
                "# Generar un array de 100 valores con distribución chi-cuadrado con 3 grados de libertad\n",
                "array_chisquare = np.random.chisquare(df=3, size=100)\n",
                "\n",
                "# ---- Cálculo de métricas para el array con distribución normal ----\n",
                "media_normal = np.mean(array_normal)\n",
                "mediana_normal = np.median(array_normal)\n",
                "moda_normal = stats.mode(array_normal, keepdims=True).mode[0]\n",
                "varianza_normal = np.var(array_normal)\n",
                "desv_std_normal = np.std(array_normal)\n",
                "max_normal = np.max(array_normal)\n",
                "min_normal = np.min(array_normal)\n",
                "percentiles_normal = np.percentile(array_normal, [25, 50, 75])\n",
                "\n",
                "# ---- Cálculo de métricas para el array con distribución chi-cuadrado ----\n",
                "media_chisquare = np.mean(array_chisquare)\n",
                "mediana_chisquare = np.median(array_chisquare)\n",
                "moda_chisquare = stats.mode(array_chisquare, keepdims=True).mode[0]\n",
                "varianza_chisquare = np.var(array_chisquare)\n",
                "desv_std_chisquare = np.std(array_chisquare)\n",
                "max_chisquare = np.max(array_chisquare)\n",
                "min_chisquare = np.min(array_chisquare)\n",
                "percentiles_chisquare = np.percentile(array_chisquare, [25, 50, 75])\n",
                "\n",
                "# ---- Comparación de métricas ----\n",
                "print(\"----- Comparación de métricas entre Distribución Normal y Chi-cuadrado -----\\n\")\n",
                "\n",
                "print(f\"{'Métrica':<20} {'Distribución Normal':<25} {'Distribución Chi-cuadrado'}\")\n",
                "print(f\"{'Media':<20} {media_normal:<25} {media_chisquare}\")\n",
                "print(f\"{'Mediana':<20} {mediana_normal:<25} {mediana_chisquare}\")\n",
                "print(f\"{'Moda':<20} {moda_normal:<25} {moda_chisquare}\")\n",
                "print(f\"{'Varianza':<20} {varianza_normal:<25} {varianza_chisquare}\")\n",
                "print(f\"{'Desv. Estándar':<20} {desv_std_normal:<25} {desv_std_chisquare}\")\n",
                "print(f\"{'Máximo':<20} {max_normal:<25} {max_chisquare}\")\n",
                "print(f\"{'Mínimo':<20} {min_normal:<25} {min_chisquare}\")\n",
                "print(f\"{'Percentil 25':<20} {percentiles_normal[0]:<25} {percentiles_chisquare[0]}\")\n",
                "print(f\"{'Percentil 50':<20} {percentiles_normal[1]:<25} {percentiles_chisquare[1]}\")\n",
                "print(f\"{'Percentil 75':<20} {percentiles_normal[2]:<25} {percentiles_chisquare[2]}\")\n"
            ]
        },
        {
            "cell_type": "markdown",
            "id": "46c70c3d",
            "metadata": {},
            "source": [
                "### Exercise 2\n",
                "\n",
                "Write a Python program to calculate the standard deviation of the following data:\n",
                "\n",
                "```py\n",
                "data = [4, 2, 5, 8, 6]\n",
                "```"
            ]
        },
        {
            "cell_type": "code",
            "execution_count": 74,
            "id": "d590308e",
            "metadata": {},
            "outputs": [],
            "source": [
                "# TODO"
            ]
        }
    ],
    "metadata": {
        "kernelspec": {
            "display_name": "Python 3",
            "language": "python",
            "name": "python3"
        },
        "language_info": {
            "codemirror_mode": {
                "name": "ipython",
                "version": 3
            },
            "file_extension": ".py",
            "mimetype": "text/x-python",
            "name": "python",
            "nbconvert_exporter": "python",
            "pygments_lexer": "ipython3",
            "version": "3.11.4"
        }
    },
    "nbformat": 4,
    "nbformat_minor": 5
}
